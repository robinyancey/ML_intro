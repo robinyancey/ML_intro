{
  "cells": [
    {
      "cell_type": "markdown",
      "id": "a9dcb990",
      "metadata": {
        "id": "a9dcb990"
      },
      "source": [
        "# Lab 1"
      ]
    },
    {
      "cell_type": "markdown",
      "id": "c79f3f68",
      "metadata": {
        "id": "c79f3f68"
      },
      "source": [
        "## Problem 1\n",
        "<b>(10 points) </b>Practice writing an algebraic expression that evaluates to the number 2024."
      ]
    },
    {
      "cell_type": "code",
      "execution_count": null,
      "id": "a23e469c",
      "metadata": {
        "id": "a23e469c"
      },
      "outputs": [],
      "source": [
        "# fill in your code for the above problem here\n",
        "# Method 1: Simple addition\n",
        "\n",
        "\n",
        "# Method 2: Using multiplication and addition\n",
        "\n",
        "\n",
        "# Method 3: Using powers and subtraction\n",
        "\n",
        "\n",
        "# Method 4: Using division and multiplication\n",
        "\n",
        "\n",
        "# Method 5: Using a combination of parentheses and operations\n"
      ]
    },
    {
      "cell_type": "markdown",
      "id": "beb96de7",
      "metadata": {
        "id": "beb96de7"
      },
      "source": [
        "## Problem 2"
      ]
    },
    {
      "cell_type": "markdown",
      "id": "867eb4b7",
      "metadata": {
        "id": "867eb4b7"
      },
      "source": [
        "<b>(20 points) </b>\n",
        "<ol>\n",
        "    <li> Read in two strings from the user using the <b>input()</b> function. Save them into variables str1 and str2.</li>\n",
        "    <li>Create a boolean variable <b>are_inputs_equal</b> and assign it to be the result of if str1 and str2 are equal.</li>\n",
        "    <li>Print both inputs the user entered to the screen using a <b>print() </b> statement.</li>\n",
        "    <li>Print out <b>are_inputs_equal</b> to the screen using a <b>print()</b> statement.</li>\n",
        "</ol>"
      ]
    },
    {
      "cell_type": "code",
      "execution_count": null,
      "id": "17505147",
      "metadata": {
        "id": "17505147"
      },
      "outputs": [],
      "source": [
        "# fill in your code for the above problem here"
      ]
    },
    {
      "cell_type": "markdown",
      "id": "ddf848e6",
      "metadata": {
        "id": "ddf848e6"
      },
      "source": [
        "## Problem 3\n",
        "<b>(20 points) </b>\n",
        "Repeat Problem 2 to read in two ints from the user. Remember that `input()` will return a `str` so be sure to first convert to an `int` (using the `int()` function). Then, print out the result of whether the two ints are equation are not."
      ]
    },
    {
      "cell_type": "code",
      "execution_count": null,
      "id": "139d6760",
      "metadata": {
        "id": "139d6760"
      },
      "outputs": [],
      "source": [
        "# fill in your code for the above problem here"
      ]
    },
    {
      "cell_type": "markdown",
      "id": "d93ac7ff",
      "metadata": {
        "id": "d93ac7ff"
      },
      "source": [
        "## Problem 4"
      ]
    },
    {
      "cell_type": "markdown",
      "id": "abb01f1e",
      "metadata": {
        "id": "abb01f1e"
      },
      "source": [
        "<b>(10 points) </b>\n",
        "<ol>\n",
        "    <li> Create a Python script math.py with the statements in problem 1. </li>\n",
        "    <li> Make sure math.py is stored in the same directory as the lab1 notebook .</li>\n",
        "    <li> Run the script through Jupyter in the cell below using %run. </li>\n",
        "</ol>\n",
        "\n",
        "```python\n",
        "%run greet_user.py\n",
        "```"
      ]
    },
    {
      "cell_type": "code",
      "execution_count": null,
      "id": "c5b0ad55",
      "metadata": {
        "id": "c5b0ad55"
      },
      "outputs": [],
      "source": [
        "%run greet_user.py"
      ]
    },
    {
      "cell_type": "markdown",
      "id": "4516f989",
      "metadata": {
        "id": "4516f989"
      },
      "source": [
        "## Problem 5"
      ]
    },
    {
      "cell_type": "markdown",
      "id": "d8201990",
      "metadata": {
        "id": "d8201990"
      },
      "source": [
        "<b>(20 points) </b>\n",
        "Convert your answer to Problem 2 to a `.py` script called `lab1_problem5.py`. Run the script below using %run lab1_problem5.py"
      ]
    },
    {
      "cell_type": "code",
      "execution_count": null,
      "id": "74b959a7",
      "metadata": {
        "id": "74b959a7"
      },
      "outputs": [],
      "source": [
        "%run lab1_problem5.py"
      ]
    },
    {
      "cell_type": "markdown",
      "id": "a4a4e6bc",
      "metadata": {
        "id": "a4a4e6bc"
      },
      "source": [
        "## Problem 6"
      ]
    },
    {
      "cell_type": "markdown",
      "id": "622fdc96",
      "metadata": {
        "id": "622fdc96"
      },
      "source": [
        "<b>(20 points) </b>\n",
        "Write a program that takes in the length of a square from the user (as a floating point number -- use `input()` with `float()`) and then prints out the area and perimeter of that square. Save your program to a file called `lab1_problem6.py`. Run the script below using %run lab1_problem6.py."
      ]
    },
    {
      "cell_type": "code",
      "execution_count": null,
      "id": "88692559",
      "metadata": {
        "id": "88692559"
      },
      "outputs": [],
      "source": [
        "%run lab1_problem6.py"
      ]
    }
  ],
  "metadata": {
    "kernelspec": {
      "display_name": "Python 3",
      "language": "python",
      "name": "python3"
    },
    "language_info": {
      "codemirror_mode": {
        "name": "ipython",
        "version": 3
      },
      "file_extension": ".py",
      "mimetype": "text/x-python",
      "name": "python",
      "nbconvert_exporter": "python",
      "pygments_lexer": "ipython3",
      "version": "3.8.8"
    },
    "colab": {
      "provenance": []
    }
  },
  "nbformat": 4,
  "nbformat_minor": 5
}
