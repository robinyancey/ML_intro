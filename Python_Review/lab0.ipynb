{
  "cells": [
    {
      "cell_type": "markdown",
      "id": "468d8b2a",
      "metadata": {
        "id": "468d8b2a"
      },
      "source": [
        "# Lab 0\n",
        "\n",
        "The purpose of this lab is to make sure you understand how to use Python/Jupyter and are able to get a Colab notebook up and running.\n",
        "\n",
        "Please begin by seeing the videos and notes on YouTube and lec0.ipynb lec1.ipynb notes GitHub respectively:\n",
        "* Installing Python and Jupyter\n",
        "* Introduction to Python\n",
        "* Writing and Running Python Code\n",
        "\n",
        "No need to install Python or Jupyter on your local CPU, this is for reference since we will be using Google Collab."
      ]
    },
    {
      "cell_type": "markdown",
      "id": "3e2d57ab",
      "metadata": {
        "id": "3e2d57ab"
      },
      "source": [
        "# Problem 0\n",
        "\n",
        "Enter the expression `help()` below and run the cell. Follow the instructions to browse the topics and modules. When you are finished, type \"quit\" to exit the menu and complete the cell execution."
      ]
    },
    {
      "cell_type": "code",
      "execution_count": 6,
      "id": "592cd9ad",
      "metadata": {
        "colab": {
          "base_uri": "https://localhost:8080/"
        },
        "id": "592cd9ad",
        "outputId": "3335a4bd-5ea9-4599-b863-944e8568d267"
      },
      "outputs": [
        {
          "output_type": "stream",
          "name": "stdout",
          "text": [
            "Welcome to Python 3.11's help utility! If this is your first time using\n",
            "Python, you should definitely check out the tutorial at\n",
            "https://docs.python.org/3.11/tutorial/.\n",
            "\n",
            "Enter the name of any module, keyword, or topic to get help on writing\n",
            "Python programs and using Python modules.  To get a list of available\n",
            "modules, keywords, symbols, or topics, enter \"modules\", \"keywords\",\n",
            "\"symbols\", or \"topics\".\n",
            "\n",
            "Each module also comes with a one-line summary of what it does; to list\n",
            "the modules whose name or summary contain a given string such as \"spam\",\n",
            "enter \"modules spam\".\n",
            "\n",
            "To quit this help utility and return to the interpreter,\n",
            "enter \"q\" or \"quit\".\n",
            "\n",
            "\n",
            "You are now leaving help and returning to the Python interpreter.\n",
            "If you want to ask for help on a particular object directly from the\n",
            "interpreter, you can type \"help(object)\".  Executing \"help('string')\"\n",
            "has the same effect as typing a particular string at the help> prompt.\n"
          ]
        }
      ],
      "source": [
        "help()"
      ]
    },
    {
      "cell_type": "markdown",
      "id": "834f39b1",
      "metadata": {
        "id": "834f39b1"
      },
      "source": [
        "# Problem 1"
      ]
    },
    {
      "cell_type": "markdown",
      "id": "352f1101",
      "metadata": {
        "id": "352f1101"
      },
      "source": [
        "Save the following into a file called `hello_world.py`.\n",
        "\n",
        "\n",
        "```python\n",
        "'''\n",
        "Hello World program.\n",
        "Prints out \"hello world\".\n",
        "'''\n",
        "\n",
        "# This statement will print out \"hello world!\"\n",
        "print(\"hello world!\")\n",
        "```\n",
        "\n",
        "<b> Make sure that none of the lines start with any spaces or indentations .</b>\n",
        "\n",
        "Notice the first four lines start and end with triple quotes. This indicates a code block. Specifically this code block is just a description of what the program is.\n"
      ]
    },
    {
      "cell_type": "markdown",
      "id": "1907fbb2",
      "metadata": {
        "id": "1907fbb2"
      },
      "source": [
        "Practice opening the help for the Jupyter `%run` command by running the cell below:"
      ]
    },
    {
      "cell_type": "code",
      "execution_count": 9,
      "id": "71b3925f",
      "metadata": {
        "colab": {
          "base_uri": "https://localhost:8080/"
        },
        "id": "71b3925f",
        "outputId": "dc6b3b1f-dbdd-4a30-e71d-1a6c3c6ce7b7"
      },
      "outputs": [
        {
          "output_type": "stream",
          "name": "stdout",
          "text": [
            "hello world!\n"
          ]
        }
      ],
      "source": [
        "%run hello_world.py"
      ]
    },
    {
      "cell_type": "markdown",
      "id": "1779cfe7",
      "metadata": {
        "id": "1779cfe7"
      },
      "source": [
        "We can use `!` in Jupyter/Colab to run through the command line. Any Linux shell command can be used after `!` and rather than the Python shell interpreting the command, the operating system will.\n",
        "\n",
        "We can thus run `hello_world.py` through the system Python shell (rather than the Jupyter Ipython shell we are currently in):"
      ]
    },
    {
      "cell_type": "code",
      "execution_count": 10,
      "id": "466b0b3d",
      "metadata": {
        "colab": {
          "base_uri": "https://localhost:8080/"
        },
        "id": "466b0b3d",
        "outputId": "ba9ccf6e-cd9e-4b0c-c763-2b9ebbb3fd6a"
      },
      "outputs": [
        {
          "output_type": "stream",
          "name": "stdout",
          "text": [
            "hello world!\n"
          ]
        }
      ],
      "source": [
        "!python hello_world.py"
      ]
    },
    {
      "cell_type": "markdown",
      "id": "2b7601cb",
      "metadata": {
        "id": "2b7601cb"
      },
      "source": [
        "# Problem 2"
      ]
    },
    {
      "cell_type": "markdown",
      "id": "827dff23",
      "metadata": {
        "id": "827dff23"
      },
      "source": [
        "Using <b>Python comments</b> in the below cell, answer the following\n",
        "1. Explain briefly what a Python shell is.\n",
        "2. Explain briefly what a Python statement is.\n",
        "3. Explain briefly what a Python script is.\n",
        "\n",
        "You must answer using comments (any type of Python comment is ok)."
      ]
    },
    {
      "cell_type": "code",
      "execution_count": null,
      "id": "8a5567a6",
      "metadata": {
        "id": "8a5567a6"
      },
      "outputs": [],
      "source": []
    },
    {
      "cell_type": "markdown",
      "id": "db48950e",
      "metadata": {
        "id": "db48950e"
      },
      "source": [
        "# Problem 3"
      ]
    },
    {
      "cell_type": "markdown",
      "id": "86e237ef",
      "metadata": {
        "id": "86e237ef"
      },
      "source": [
        "Using a <b>markdown</b> cell below, answer the following\n",
        "<ol>\n",
        "    <li> What is your major and what are your career / educational goals?</li>\n",
        "    <li> What programming experience do you have?</li>\n",
        "    <li> What are you hoping to learn in this course?</li>\n",
        "</ol>\n",
        "\n",
        "To convert a cell to a markdown cell with the current cell selected, click Cell -> Cell Type -> Markdown in the Notebook menu above."
      ]
    }
  ],
  "metadata": {
    "kernelspec": {
      "display_name": "Python 3 (ipykernel)",
      "language": "python",
      "name": "python3"
    },
    "language_info": {
      "codemirror_mode": {
        "name": "ipython",
        "version": 3
      },
      "file_extension": ".py",
      "mimetype": "text/x-python",
      "name": "python",
      "nbconvert_exporter": "python",
      "pygments_lexer": "ipython3",
      "version": "3.13.0"
    },
    "colab": {
      "provenance": []
    }
  },
  "nbformat": 4,
  "nbformat_minor": 5
}
