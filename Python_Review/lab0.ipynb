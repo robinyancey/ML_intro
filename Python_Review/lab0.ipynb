{
 "cells": [
  {
   "cell_type": "markdown",
   "id": "468d8b2a",
   "metadata": {},
   "source": [
    "# Lab 0\n",
    "\n",
    "The purpose of this lab is to make sure you have understand how to use Python/Jupyter and are able to get a notebook up and running.\n",
    "\n",
    "Please begin by reading the Unit 0: Introduction to Python module pages:\n",
    "* Installing Python and Jupyter\n",
    "* Introduction to Python\n",
    "* Writing and Running Python Code\n",
    "\n",
    "No need to install Python or Jupyter on your local CPU, this is for reference since we will be using Google Collab. "
   ]
  },
  {
   "cell_type": "markdown",
   "id": "3e2d57ab",
   "metadata": {},
   "source": [
    "# Problem 0\n",
    "\n",
    "Enter the expression `help()` below and run the cell. Follow the instructions to browse the topics and modules. When you are finished, type \"quit\" to exit the menu and complete the cell execution."
   ]
  },
  {
   "cell_type": "code",
   "execution_count": null,
   "id": "592cd9ad",
   "metadata": {},
   "outputs": [],
   "source": [
    "help()"
   ]
  },
  {
   "cell_type": "markdown",
   "id": "834f39b1",
   "metadata": {},
   "source": [
    "# Problem 1"
   ]
  },
  {
   "cell_type": "markdown",
   "id": "352f1101",
   "metadata": {},
   "source": [
    "Save the following into a file called `hello_world.py`. \n",
    "\n",
    "\n",
    "```python\n",
    "'''\n",
    "Hello World program. \n",
    "Prints out \"hello world\".\n",
    "'''\n",
    "\n",
    "# This statement will print out \"hello world!\"\n",
    "print(\"hello world!\")\n",
    "```\n",
    "\n",
    "<b> Make sure that none of the lines start with any spaces or indentations .</b>\n",
    "\n",
    "Notice the first four lines start and end with triple quotes. This indicates a code block. Specifically this code block is just a description of what the program is.\n"
   ]
  },
  {
   "cell_type": "markdown",
   "id": "1907fbb2",
   "metadata": {},
   "source": [
    "Practice opening the help for the Jupyter `%run` command by running the cell below:"
   ]
  },
  {
   "cell_type": "code",
   "execution_count": null,
   "id": "239b4c0a",
   "metadata": {},
   "outputs": [],
   "source": [
    "run?"
   ]
  },
  {
   "cell_type": "markdown",
   "id": "a20fa318",
   "metadata": {},
   "source": [
    "Now, practice running the hello_world.py script in the cell below:"
   ]
  },
  {
   "cell_type": "code",
   "execution_count": null,
   "id": "71b3925f",
   "metadata": {},
   "outputs": [],
   "source": [
    "%run hello_world.py"
   ]
  },
  {
   "cell_type": "markdown",
   "id": "1779cfe7",
   "metadata": {},
   "source": [
    "We can use `!` in Jupyter to run through the command line. Any Linux shell command can be used after `!` and rather than the Python shell interpreting the command, the operating system will.\n",
    "\n",
    "We can thus run `hello_world.py` through the system Python shell (rather than the Jupyter Ipython shell we are currently in):"
   ]
  },
  {
   "cell_type": "code",
   "execution_count": null,
   "id": "466b0b3d",
   "metadata": {},
   "outputs": [],
   "source": [
    "!python hello_world.py"
   ]
  },
  {
   "cell_type": "markdown",
   "id": "2b7601cb",
   "metadata": {},
   "source": [
    "# Problem 2"
   ]
  },
  {
   "cell_type": "markdown",
   "id": "827dff23",
   "metadata": {},
   "source": [
    "Using <b>Python comments</b> in the below cell, answer the following \n",
    "1. Explain briefly what is a Python shell.\n",
    "2. Explain briefly what a Python statement is.\n",
    "3. Explain briefly what a Python script is.\n",
    "\n",
    "You must answer using comments (any type of Python comment is ok)."
   ]
  },
  {
   "cell_type": "code",
   "execution_count": null,
   "id": "8a5567a6",
   "metadata": {},
   "outputs": [],
   "source": []
  },
  {
   "cell_type": "markdown",
   "id": "db48950e",
   "metadata": {},
   "source": [
    "# Problem 3"
   ]
  },
  {
   "cell_type": "markdown",
   "id": "86e237ef",
   "metadata": {},
   "source": [
    "Using a <b>markdown</b> cell below, answer the following\n",
    "<ol>\n",
    "    <li> What is your major and what are your career / educational goals?</li>\n",
    "    <li> What programming experience do you have?</li>\n",
    "    <li> What are you hoping to learn in this course?</li>\n",
    "    <li> Is there anything you'd like to confidentially share?</li>\n",
    "</ol>\n",
    "\n",
    "To convert a cell to a markdown cell with the current cell selected, click Cell -> Cell Type -> Markdown in the Notebook menu above."
   ]
  },
  {
   "cell_type": "code",
   "execution_count": null,
   "id": "e38ec8d7",
   "metadata": {},
   "outputs": [],
   "source": []
  }
 ],
 "metadata": {
  "kernelspec": {
   "display_name": "Python 3 (ipykernel)",
   "language": "python",
   "name": "python3"
  },
  "language_info": {
   "codemirror_mode": {
    "name": "ipython",
    "version": 3
   },
   "file_extension": ".py",
   "mimetype": "text/x-python",
   "name": "python",
   "nbconvert_exporter": "python",
   "pygments_lexer": "ipython3",
   "version": "3.13.0"
  }
 },
 "nbformat": 4,
 "nbformat_minor": 5
}
